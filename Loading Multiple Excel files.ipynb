{
 "cells": [
  {
   "cell_type": "code",
   "execution_count": 122,
   "id": "1593c413",
   "metadata": {},
   "outputs": [
    {
     "name": "stdout",
     "output_type": "stream",
     "text": [
      "No data found in C:\\Users\\junea\\Documents\\Files\\data\\Sales_2021.xlsx\n",
      "Moved C:\\Users\\junea\\Documents\\Files\\data\\Sales_2022.xlsx to C:\\Users\\junea\\Documents\\Files\\data\\Archive\\Sales_2022.xlsx\n",
      "Moved C:\\Users\\junea\\Documents\\Files\\data\\Sales_2023.xlsx to C:\\Users\\junea\\Documents\\Files\\data\\Archive\\Sales_2023.xlsx\n",
      "No data found in C:\\Users\\junea\\Documents\\Files\\data\\Sales_2024.xlsx\n"
     ]
    }
   ],
   "source": [
    "import os\n",
    "import shutil\n",
    "import pandas as pd\n",
    "import pyodbc\n",
    "\n",
    "# SQL Server connection parameters\n",
    "server = 'SUDHISAMI\\\\SUDHISAMI'\n",
    "database = 'Python_DB'\n",
    "username = 'newsa'\n",
    "password = 'Password123*'\n",
    "driver = '{ODBC Driver 17 for SQL Server}'\n",
    "\n",
    "# Establish the connection\n",
    "conn = pyodbc.connect(\n",
    "    f'DRIVER={driver};SERVER={server};DATABASE={database};UID={username};PWD={password}'\n",
    ")\n",
    "cursor = conn.cursor()\n",
    "\n",
    "# Directory containing the Excel files\n",
    "directory = r'C:\\Users\\junea\\Documents\\Files\\data'  # Path to the folder containing sales files\n",
    "archive_directory = r'C:\\Users\\junea\\Documents\\Files\\data\\Archive'  # Path to the archive folder\n",
    "\n",
    "# Ensure the archive directory exists\n",
    "if not os.path.exists(archive_directory):\n",
    "    os.makedirs(archive_directory)\n",
    "\n",
    "# Loop through each file in the directory\n",
    "for filename in os.listdir(directory):\n",
    "    if filename.startswith('Sales_') and filename.endswith('.xlsx'):\n",
    "        file_path = os.path.join(directory, filename)\n",
    "        try:\n",
    "            # Load the Excel file into a DataFrame\n",
    "            df = pd.read_excel(file_path, engine='openpyxl')\n",
    "            # Add a new column for the file name\n",
    "            df['source_file'] = filename\n",
    "        except Exception as e:\n",
    "            print(f\"Error reading {file_path}: {e}\")\n",
    "            continue\n",
    "        \n",
    "        # Check if the DataFrame is not empty\n",
    "        if not df.empty:\n",
    "            # Define the insert query\n",
    "            insert_query = '''\n",
    "            INSERT INTO SalesFact (sales_id, date_id, customer_id, product_id, store_id, sales_amount, quantity_sold, discount_amount, total_amount, source_file)\n",
    "            VALUES (?, ?, ?, ?, ?, ?, ?, ?, ?, ?)\n",
    "            '''\n",
    "\n",
    "            # Insert each row into the SQL Server table\n",
    "            for index, row in df.iterrows():\n",
    "                cursor.execute(insert_query, \n",
    "                               int(row['sales_id']), \n",
    "                               int(row['date_id']), \n",
    "                               int(row['customer_id']), \n",
    "                               int(row['product_id']), \n",
    "                               int(row['store_id']), \n",
    "                               float(row['sales_amount']), \n",
    "                               int(row['quantity_sold']), \n",
    "                               float(row['discount_amount']), \n",
    "                               float(row['total_amount']),\n",
    "                               row['source_file'])\n",
    "\n",
    "            # Commit the transaction\n",
    "            conn.commit()\n",
    "            \n",
    "            # Move the file to the archive directory\n",
    "            archive_path = os.path.join(archive_directory, filename)\n",
    "            shutil.move(file_path, archive_path)\n",
    "            print(f\"Moved {file_path} to {archive_path}\")\n",
    "        else:\n",
    "            print(f\"No data found in {file_path}\")\n",
    "\n",
    "# Close the connection\n",
    "cursor.close()\n",
    "conn.close()\n"
   ]
  },
  {
   "cell_type": "code",
   "execution_count": 121,
   "id": "907d95a2",
   "metadata": {
    "scrolled": true
   },
   "outputs": [
    {
     "data": {
      "text/plain": [
       "['Archive',\n",
       " 'Product Load into SQL Server.py',\n",
       " 'Python Joins and graphs.ipynb',\n",
       " 'Python Pandas ETL 2.docx',\n",
       " 'Python Pandas ETL 2.pdf',\n",
       " 'Python Script ETL 2.py',\n",
       " '___Sales_2022.xlsx']"
      ]
     },
     "execution_count": 121,
     "metadata": {},
     "output_type": "execute_result"
    }
   ],
   "source": [
    "os.listdir(directory)"
   ]
  },
  {
   "cell_type": "code",
   "execution_count": 110,
   "id": "eb27a9a4",
   "metadata": {},
   "outputs": [
    {
     "data": {
      "text/plain": [
       "'Sales_2021.xlsx'"
      ]
     },
     "execution_count": 110,
     "metadata": {},
     "output_type": "execute_result"
    }
   ],
   "source": [
    "filename"
   ]
  },
  {
   "cell_type": "code",
   "execution_count": null,
   "id": "b28de792",
   "metadata": {},
   "outputs": [],
   "source": []
  }
 ],
 "metadata": {
  "kernelspec": {
   "display_name": "Python 3 (ipykernel)",
   "language": "python",
   "name": "python3"
  },
  "language_info": {
   "codemirror_mode": {
    "name": "ipython",
    "version": 3
   },
   "file_extension": ".py",
   "mimetype": "text/x-python",
   "name": "python",
   "nbconvert_exporter": "python",
   "pygments_lexer": "ipython3",
   "version": "3.11.5"
  }
 },
 "nbformat": 4,
 "nbformat_minor": 5
}
